{
 "cells": [
  {
   "cell_type": "markdown",
   "id": "6a8168a4",
   "metadata": {},
   "source": [
    "# Python Quickstart\n",
    "\n",
    "SedonaDB for Python can be installed from [PyPI](https://pypi.org):\n",
    "\n",
    "```shell\n",
    "pip install apache-sedona[db]\n",
    "```\n",
    "\n",
    "If you can import the module and connect to a new session, you're good to go!"
   ]
  },
  {
   "cell_type": "code",
   "execution_count": 1,
   "id": "a06df76b",
   "metadata": {},
   "outputs": [
    {
     "name": "stdout",
     "output_type": "stream",
     "text": [
      "┌────────────┐\n",
      "│    geom    │\n",
      "│     wkb    │\n",
      "╞════════════╡\n",
      "│ POINT(0 1) │\n",
      "└────────────┘\n"
     ]
    }
   ],
   "source": [
    "import sedonadb\n",
    "\n",
    "sd = sedonadb.connect()\n",
    "sd.sql(\"SELECT ST_Point(0, 1) as geom\").show()"
   ]
  },
  {
   "cell_type": "markdown",
   "id": "fc34cc93",
   "metadata": {},
   "source": [
    "Most SedonaDB Python users will want to turn on interactive mode when developing code in a notebook or interactive session. Interactive mode prints results eagerly, which is usually what you want when interacting with a new data source or constructing a query. When interacting with large remote data sources or non-interactive workloads, this is usually *not* what you want; however, you can use an explicit `.show()` to force executing enough of a query to show the first few rows."
   ]
  },
  {
   "cell_type": "code",
   "execution_count": 2,
   "id": "3629c6e6",
   "metadata": {},
   "outputs": [
    {
     "data": {
      "text/plain": [
       "┌────────────┐\n",
       "│    geom    │\n",
       "│     wkb    │\n",
       "╞════════════╡\n",
       "│ POINT(0 1) │\n",
       "└────────────┘"
      ]
     },
     "execution_count": 2,
     "metadata": {},
     "output_type": "execute_result"
    }
   ],
   "source": [
    "sedonadb.options.interactive = True\n",
    "sd.sql(\"SELECT ST_Point(0, 1) as geom\")"
   ]
  },
  {
   "cell_type": "markdown",
   "id": "8fd8cae5-0b77-4a09-8b85-33bcc6abb813",
   "metadata": {},
   "source": [
    "Let's create a DataFrame with one string column and one geometry column to show some of the functionality of the SedonaDB Python interface."
   ]
  },
  {
   "cell_type": "code",
   "execution_count": 17,
   "id": "6dd816c7-fd3f-4358-b628-ef5e6940c95c",
   "metadata": {},
   "outputs": [],
   "source": [
    "df = sd.sql(\"\"\"\n",
    "SELECT * FROM (VALUES \n",
    "    ('one', ST_GeomFromWkt('POINT(1 2)')), \n",
    "    ('two', ST_GeomFromWkt('POINT(3 4)')), \n",
    "    ('three', ST_GeomFromWkt('POINT(7 9)'))) \n",
    "AS t(val, point)\"\"\")"
   ]
  },
  {
   "cell_type": "code",
   "execution_count": 18,
   "id": "fb566114-0f2c-45c7-bc94-2396542c2458",
   "metadata": {},
   "outputs": [
    {
     "name": "stdout",
     "output_type": "stream",
     "text": [
      "┌───────┬────────────┐\n",
      "│  val  ┆    point   │\n",
      "│  utf8 ┆     wkb    │\n",
      "╞═══════╪════════════╡\n",
      "│ one   ┆ POINT(1 2) │\n",
      "├╌╌╌╌╌╌╌┼╌╌╌╌╌╌╌╌╌╌╌╌┤\n",
      "│ two   ┆ POINT(3 4) │\n",
      "├╌╌╌╌╌╌╌┼╌╌╌╌╌╌╌╌╌╌╌╌┤\n",
      "│ three ┆ POINT(7 9) │\n",
      "└───────┴────────────┘\n"
     ]
    }
   ],
   "source": [
    "df.show()"
   ]
  },
  {
   "cell_type": "markdown",
   "id": "b051dbf5-2fdc-4cf7-9cfc-73d3ca5a5d94",
   "metadata": {},
   "source": [
    "Verify that this object is a SedonaDB DataFrame."
   ]
  },
  {
   "cell_type": "code",
   "execution_count": 15,
   "id": "44574ca0-1a39-4018-9729-ae56c232013c",
   "metadata": {},
   "outputs": [
    {
     "data": {
      "text/plain": [
       "sedonadb.dataframe.DataFrame"
      ]
     },
     "execution_count": 15,
     "metadata": {},
     "output_type": "execute_result"
    }
   ],
   "source": [
    "type(df)"
   ]
  },
  {
   "cell_type": "markdown",
   "id": "d6e7e7b0-bac3-4ce4-8839-a7fa3dd0b4c6",
   "metadata": {},
   "source": [
    "Expose the DataFrame as a view and run a spatial operation on the geometry data."
   ]
  },
  {
   "cell_type": "code",
   "execution_count": 19,
   "id": "aac2295a-68fe-44c4-911a-e049f789ad35",
   "metadata": {},
   "outputs": [],
   "source": [
    "df.to_view(\"fun_table\")"
   ]
  },
  {
   "cell_type": "code",
   "execution_count": 24,
   "id": "09eefd76-b325-4d58-8284-92c2340514b8",
   "metadata": {},
   "outputs": [
    {
     "name": "stdout",
     "output_type": "stream",
     "text": [
      "┌───────┬────────────┬──────────────────────────┐\n",
      "│  val  ┆    point   ┆ st_area(fun_table.point) │\n",
      "│  utf8 ┆     wkb    ┆          float64         │\n",
      "╞═══════╪════════════╪══════════════════════════╡\n",
      "│ one   ┆ POINT(1 2) ┆                      0.0 │\n",
      "├╌╌╌╌╌╌╌┼╌╌╌╌╌╌╌╌╌╌╌╌┼╌╌╌╌╌╌╌╌╌╌╌╌╌╌╌╌╌╌╌╌╌╌╌╌╌╌┤\n",
      "│ two   ┆ POINT(3 4) ┆                      0.0 │\n",
      "├╌╌╌╌╌╌╌┼╌╌╌╌╌╌╌╌╌╌╌╌┼╌╌╌╌╌╌╌╌╌╌╌╌╌╌╌╌╌╌╌╌╌╌╌╌╌╌┤\n",
      "│ three ┆ POINT(7 9) ┆                      0.0 │\n",
      "└───────┴────────────┴──────────────────────────┘\n"
     ]
    }
   ],
   "source": [
    "sd.sql(\"select *, ST_Area(point) from fun_table\").show()"
   ]
  }
 ],
 "metadata": {
  "kernelspec": {
   "display_name": "Python 3 (ipykernel)",
   "language": "python",
   "name": "python3"
  },
  "language_info": {
   "codemirror_mode": {
    "name": "ipython",
    "version": 3
   },
   "file_extension": ".py",
   "mimetype": "text/x-python",
   "name": "python",
   "nbconvert_exporter": "python",
   "pygments_lexer": "ipython3",
   "version": "3.12.8"
  }
 },
 "nbformat": 4,
 "nbformat_minor": 5
}
