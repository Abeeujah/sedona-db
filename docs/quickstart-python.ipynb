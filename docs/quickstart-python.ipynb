{
 "cells": [
  {
   "cell_type": "markdown",
   "id": "6a8168a4",
   "metadata": {},
   "source": [
    "# Python Quickstart\n",
    "\n",
    "SedonaDB for Python can be installed from [PyPI](https://pypi.org):\n",
    "\n",
    "```shell\n",
    "pip install apache-sedona[db]\n",
    "```\n",
    "\n",
    "If you can import the module and connect to a new session, you're good to go!"
   ]
  },
  {
   "cell_type": "code",
   "execution_count": 1,
   "id": "a06df76b",
   "metadata": {},
   "outputs": [
    {
     "name": "stdout",
     "output_type": "stream",
     "text": [
      "┌────────────┐\n",
      "│    geom    │\n",
      "│     wkb    │\n",
      "╞════════════╡\n",
      "│ POINT(0 1) │\n",
      "└────────────┘\n"
     ]
    }
   ],
   "source": [
    "import sedonadb\n",
    "\n",
    "sd = sedonadb.connect()\n",
    "sd.sql(\"SELECT ST_Point(0, 1) as geom\").show()"
   ]
  },
  {
   "cell_type": "markdown",
   "id": "fc34cc93",
   "metadata": {},
   "source": [
    "Most SedonaDB Python users will want to turn on interactive mode when developing code in a notebook or interactive session. Interactive mode prints results eagerly, which is usually what you want when interacting with a new data source or constructing a query. When interacting with large remote data sources or non-interactive workloads, this is usually *not* what you want; however, you can use an explicit `.show()` to force executing enough of a query to show the first few rows."
   ]
  },
  {
   "cell_type": "code",
   "execution_count": 2,
   "id": "3629c6e6",
   "metadata": {},
   "outputs": [
    {
     "data": {
      "text/plain": [
       "┌────────────┐\n",
       "│    geom    │\n",
       "│     wkb    │\n",
       "╞════════════╡\n",
       "│ POINT(0 1) │\n",
       "└────────────┘"
      ]
     },
     "execution_count": 2,
     "metadata": {},
     "output_type": "execute_result"
    }
   ],
   "source": [
    "sedonadb.options.interactive = True\n",
    "sd.sql(\"SELECT ST_Point(0, 1) as geom\")"
   ]
  }
 ],
 "metadata": {
  "kernelspec": {
   "display_name": ".venv",
   "language": "python",
   "name": "python3"
  },
  "language_info": {
   "codemirror_mode": {
    "name": "ipython",
    "version": 3
   },
   "file_extension": ".py",
   "mimetype": "text/x-python",
   "name": "python",
   "nbconvert_exporter": "python",
   "pygments_lexer": "ipython3",
   "version": "3.13.5"
  }
 },
 "nbformat": 4,
 "nbformat_minor": 5
}
